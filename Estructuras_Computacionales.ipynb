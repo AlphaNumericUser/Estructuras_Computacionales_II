{
 "cells": [
  {
   "cell_type": "markdown",
   "id": "c8fde11d",
   "metadata": {},
   "source": [
    "# Proyecto Final !!\n",
    "### Estructuras Computacionales\n",
    "\n",
    "En este jupyter notebook se muestran los __algoritmos__ realizados durante el curso de __Estructuras Computacionales II__, los cuales son listados a continuacion.\n",
    "\n",
    "* Matriz de Adyacencia.\n",
    "* Lista de Adyacencia.\n",
    "* Recorrido de anchura.\n",
    "* Recorrido en profundidad.\n",
    "* Grafo conexo.\n",
    "* Algoritmo de dijkstra.\n",
    "\n",
    "Nota. Todos estos algoritmos estaran compuestos de en un solo archivo .py, para mantener el codigo correctamente organizado haremos uso de la POO."
   ]
  },
  {
   "cell_type": "markdown",
   "id": "bedc5564",
   "metadata": {},
   "source": [
    "#### Main Class\n",
    "Clase principal que contendra todos los __algoritmos__.\n",
    "\n",
    "Hagan sus programas en el metodo que le corresponde, si quieren definir variables que se inicializen \n",
    "al instanciar la clase de **Estructuras_Computacionales** ponganlas en el metodo **init** y comenten arriba del metodo colocando el algoritmo que estan desarrollando y para que es la variable que estan definiendo. Si quieren pueden utilizar variables de otros **me vale madres mientras funcione**.\n",
    "\n",
    "Para definir las variables deben usar '**self.variable = valor**' si quieren que el metodo sea privado usen\n",
    "'**self.\\__variable = valor**', y ya."
   ]
  },
  {
   "cell_type": "markdown",
   "id": "f48fda24",
   "metadata": {},
   "source": [
    "Cuando esten en github hagan un **fork** del repositorio del codigo para que lo copien, despues creen una rama que tenga el nombre del algoritmo que estan haciendo para que empiezen a hacer su parte."
   ]
  },
  {
   "cell_type": "code",
   "execution_count": 1,
   "id": "c31d63ce",
   "metadata": {},
   "outputs": [],
   "source": [
    "class Estructuras_Computacionales:\n",
    "    \"\"\"\n",
    "        Documentacion que quieran poner sobre su programa, si la ponen aqui se va a mostrar cuando\n",
    "        le den a la tecla 'shift + tab'.\n",
    "    \"\"\"\n",
    "    def __init__(self):\n",
    "        pass\n",
    "    \n",
    "    def Matriz_Adyacencia(self):\n",
    "        pass\n",
    "    \n",
    "    def Lista_Adyacencia(self):\n",
    "        pass\n",
    "    \n",
    "    def Recorrido_Anchura(self):\n",
    "        pass\n",
    "    \n",
    "    def Recorrido_Profundidad(self):\n",
    "        pass\n",
    "    \n",
    "    def Grafo_Conexo(self):\n",
    "        pass\n",
    "    \n",
    "    def Algoritmo_Dijkstra(self):\n",
    "        pass"
   ]
  },
  {
   "cell_type": "code",
   "execution_count": 3,
   "id": "fbe2a284",
   "metadata": {},
   "outputs": [],
   "source": [
    "\"\"\"\n",
    "    Ejecuten la anterior clase y cuando esten sobre la siguiente linea y le den Shift + tab se muestran\n",
    "    los comentarios que pongan arriba del init.\n",
    "\"\"\"\n",
    "obj = Estructuras_Computacionales()"
   ]
  }
 ],
 "metadata": {
  "kernelspec": {
   "display_name": "Python 3 (ipykernel)",
   "language": "python",
   "name": "python3"
  },
  "language_info": {
   "codemirror_mode": {
    "name": "ipython",
    "version": 3
   },
   "file_extension": ".py",
   "mimetype": "text/x-python",
   "name": "python",
   "nbconvert_exporter": "python",
   "pygments_lexer": "ipython3",
   "version": "3.9.18"
  }
 },
 "nbformat": 4,
 "nbformat_minor": 5
}
